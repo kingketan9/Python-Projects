{
  "nbformat": 4,
  "nbformat_minor": 0,
  "metadata": {
    "colab": {
      "name": "Mini-Projects.ipynb",
      "provenance": [],
      "include_colab_link": true
    },
    "kernelspec": {
      "name": "python3",
      "display_name": "Python 3"
    },
    "language_info": {
      "name": "python"
    }
  },
  "cells": [
    {
      "cell_type": "markdown",
      "metadata": {
        "id": "view-in-github",
        "colab_type": "text"
      },
      "source": [
        "<a href=\"https://colab.research.google.com/github/kingketan9/Python-Projects/blob/main/Mini_Projects.ipynb\" target=\"_parent\"><img src=\"https://colab.research.google.com/assets/colab-badge.svg\" alt=\"Open In Colab\"/></a>"
      ]
    },
    {
      "cell_type": "markdown",
      "source": [
        "Mini projects"
      ],
      "metadata": {
        "id": "OM_cJI3u6fG5"
      }
    },
    {
      "cell_type": "markdown",
      "source": [
        "Sudoku Solver "
      ],
      "metadata": {
        "id": "SfoPsf7d6wZ4"
      }
    },
    {
      "cell_type": "code",
      "execution_count": null,
      "metadata": {
        "colab": {
          "base_uri": "https://localhost:8080/"
        },
        "id": "Cm7yEUCN6eHH",
        "outputId": "fe4cb185-4e1e-4b03-f643-8f696c513327"
      },
      "outputs": [
        {
          "output_type": "stream",
          "name": "stdout",
          "text": [
            "5 3 4 6 7 8 9 1 2 \n",
            "6 7 2 1 9 5 3 4 8 \n",
            "1 9 8 3 4 2 5 6 7 \n",
            "8 5 9 7 6 1 4 2 3 \n",
            "4 2 6 8 5 3 7 9 1 \n",
            "7 1 3 9 2 4 8 5 6 \n",
            "9 6 1 5 3 7 2 8 4 \n",
            "2 8 7 4 1 9 6 3 5 \n",
            "3 4 5 2 8 6 1 7 9 \n"
          ]
        }
      ],
      "source": [
        "N = 9\n",
        "\n",
        "def printing(arr):\n",
        "    for i in range(N):\n",
        "        for j in range(N):\n",
        "            print(arr[i][j], end = \" \")\n",
        "        print()\n",
        "\n",
        "def isSafe(grid, row, col, num):\n",
        "\n",
        "    for x in range(9):\n",
        "        if grid[row][x] == num:\n",
        "            return False\n",
        "\n",
        "    for x in range(9):\n",
        "        if grid[x][col] == num:\n",
        "            return False\n",
        "\n",
        "    startRow = row - row % 3\n",
        "    startCol = col - col % 3\n",
        "    for i in range(3):\n",
        "        for j in range(3):\n",
        "            if grid[i + startRow][j + startCol] == num:\n",
        "                return False\n",
        "    return True\n",
        "\n",
        "def solveSudoku(grid, row, col):\n",
        "\n",
        "    if (row == N - 1 and col == N):\n",
        "        return True\n",
        "\n",
        "    if col == N:\n",
        "        row += 1\n",
        "        col = 0\n",
        "\n",
        "    if grid[row][col] > 0:\n",
        "        return solveSudoku(grid, row, col + 1)\n",
        "    for num in range(1, N + 1, 1):\n",
        "\n",
        "        if isSafe(grid, row, col, num):\n",
        "            grid[row][col] = num\n",
        "            if solveSudoku(grid, row, col + 1):\n",
        "                return True\n",
        "        grid[row][col] = 0\n",
        "    return False\n",
        "\n",
        "grid = [[5, 3, 0, 0, 7, 0, 0, 0, 0],\n",
        "        [6, 0, 0, 1, 9, 5, 0, 0, 0],\n",
        "        [0, 9, 8, 0, 0, 0, 0, 6, 0],\n",
        "        [8, 0, 0, 0, 6, 0, 0, 0, 3],\n",
        "        [4, 0, 0, 8, 0, 3, 0, 0, 1],\n",
        "        [7, 0, 0, 0, 2, 0, 0, 0, 6],\n",
        "        [0, 6, 0, 0, 0, 0, 2, 8, 0],\n",
        "        [0, 0, 0, 4, 1, 9, 0, 0, 5],\n",
        "        [0, 0, 0, 0, 8, 0, 0, 7, 9]]\n",
        "\n",
        "if (solveSudoku(grid, 0, 0)):\n",
        "    printing(grid)\n",
        "else:\n",
        "    print(\"no solution exists \")"
      ]
    },
    {
      "cell_type": "markdown",
      "source": [
        "N-Queen Problem "
      ],
      "metadata": {
        "id": "5rgj7Oi962FX"
      }
    },
    {
      "cell_type": "code",
      "source": [
        "global N\n",
        "N = 4\n",
        "\n",
        "def printSolution(board):\n",
        "    for i in range(N):\n",
        "        for j in range(N):\n",
        "            print (board[i][j], end = \" \")\n",
        "        print()\n",
        "\n",
        "def isSafe(board, row, col):\n",
        "\n",
        "    for i in range(col):\n",
        "        if board[row][i] == 1:\n",
        "            return False\n",
        "        \n",
        "    for i, j in zip(range(row, -1, -1),\n",
        "                    range(col, -1, -1)):\n",
        "        if board[i][j] == 1:\n",
        "            return False\n",
        "\n",
        "    for i, j in zip(range(row, N, 1),\n",
        "                    range(col, -1, -1)):\n",
        "        if board[i][j] == 1:\n",
        "            return False\n",
        "    return True\n",
        "\n",
        "def solveNQUtil(board, col):\n",
        "    if col >= N:\n",
        "        return True\n",
        "\n",
        "    for i in range(N):\n",
        "        if isSafe(board, i, col):\n",
        "            board[i][col] = 1\n",
        "\n",
        "            if solveNQUtil(board, col + 1) == True:\n",
        "                return True\n",
        "            board[i][col] = 0\n",
        "\n",
        "    return False\n",
        "\n",
        "def solveNQ():\n",
        "    board = [ [0, 0, 0, 0],\n",
        "            [0, 0, 0, 0],\n",
        "            [0, 0, 0, 0],\n",
        "            [0, 0, 0, 0] ]\n",
        "\n",
        "    if solveNQUtil(board, 0) == False:\n",
        "        print (\"Solution does not exist\")\n",
        "        return False\n",
        "\n",
        "    printSolution(board)\n",
        "    return True\n",
        "\n",
        "solveNQ()"
      ],
      "metadata": {
        "colab": {
          "base_uri": "https://localhost:8080/"
        },
        "id": "G9WTMYjP64hh",
        "outputId": "3a58a40f-fd2e-4faa-8c94-a52dc701fdf2"
      },
      "execution_count": null,
      "outputs": [
        {
          "output_type": "stream",
          "name": "stdout",
          "text": [
            "0 0 1 0 \n",
            "1 0 0 0 \n",
            "0 0 0 1 \n",
            "0 1 0 0 \n"
          ]
        },
        {
          "output_type": "execute_result",
          "data": {
            "text/plain": [
              "True"
            ]
          },
          "metadata": {},
          "execution_count": 2
        }
      ]
    },
    {
      "cell_type": "markdown",
      "source": [
        "Travelling Salesman Problem "
      ],
      "metadata": {
        "id": "U_8jNllH66I4"
      }
    },
    {
      "cell_type": "code",
      "source": [
        "from sys import maxsize\n",
        "from itertools import permutations\n",
        "V = 4\n",
        "\n",
        "def travellingSalesmanProblem(graph, s):\n",
        "\n",
        "    vertex = []\n",
        "    for i in range(V):\n",
        "        if i != s:\n",
        "            vertex.append(i)\n",
        "\n",
        "    min_path = maxsize\n",
        "    next_permutation = permutations(vertex)\n",
        "    for i in next_permutation:\n",
        "\n",
        "        current_pathweight = 0\n",
        "        k = s\n",
        "        for j in i:\n",
        "            current_pathweight += graph[k][j]\n",
        "            k = j\n",
        "        current_pathweight += graph[k][s]\n",
        "\n",
        "\n",
        "        min_path = min(min_path, current_pathweight)\n",
        "\n",
        "    return min_path\n",
        "graph = [[0, 10, 15, 20], [10, 0, 35, 25],\n",
        "            [15, 35, 0, 30], [20, 25, 30, 0]]\n",
        "s = 0\n",
        "print(travellingSalesmanProblem(graph, s))"
      ],
      "metadata": {
        "colab": {
          "base_uri": "https://localhost:8080/"
        },
        "id": "N7MWC2C16-Pf",
        "outputId": "fe1c7881-04ac-49c2-f859-b7d0b1261e86"
      },
      "execution_count": null,
      "outputs": [
        {
          "output_type": "stream",
          "name": "stdout",
          "text": [
            "80\n"
          ]
        }
      ]
    },
    {
      "cell_type": "markdown",
      "source": [
        "Coin change problem"
      ],
      "metadata": {
        "id": "TyngPn9a7WcE"
      }
    },
    {
      "cell_type": "code",
      "source": [
        "import random as r\n",
        "\n",
        "\n",
        "# 2. Parameter Setting\n",
        "CoinList    = [1, 5, 10, 20]  # Coin List\n",
        "Target      = 1125     # Target\n",
        "C           = 5        # Constraint\n",
        "ResultList  = set()    # Store Result List\n",
        "Iterations  = 50000    # Number of Inerations\n",
        "\n",
        "\n",
        "\n",
        "# 3. Loop till number of Iterations\n",
        "f=0\n",
        "for i in range(Iterations):\n",
        "\n",
        "    # Select count of coins\n",
        "    CoinCount = [ 5 * r.randint(0,15) for j in range(len(CoinList))]\n",
        "\n",
        "    # Select number of elements from Set\n",
        "    CoinCost = [ a * b for a,b in zip(CoinCount, CoinList)]\n",
        "\n",
        "    # Sum the products in ColboList\n",
        "    CoinSum = sum(CoinCost)\n",
        "    \n",
        "    if sum(CoinCost) == Target:\n",
        "      ResultList.add(tuple(CoinCount))\n",
        "      f=1\n",
        "\n",
        "if f==0:\n",
        "  print(\"No Sequence found !!\")\n",
        "\n",
        "\n",
        "\n",
        "# 4. Find min count of coins\n",
        "minSum  = 99999\n",
        "minList = 0\n",
        "for r in ResultList:\n",
        "  if sum(r) < minSum:\n",
        "    minSum = sum(r)\n",
        "    minList = r\n",
        "\n",
        "print(\"Min num of coins are:\" , sum(minList), minList )"
      ],
      "metadata": {
        "id": "e6cNLzU37YtR"
      },
      "execution_count": null,
      "outputs": []
    },
    {
      "cell_type": "markdown",
      "source": [
        "Operator Fitting Problem"
      ],
      "metadata": {
        "id": "9t6wedcJ7ZcK"
      }
    },
    {
      "cell_type": "code",
      "source": [
        "import random as r\n",
        "\n",
        "#Parameter Setting\n",
        "seq     = ['6','5','4','3','2']\n",
        "op      = ['+','-','*','/']\n",
        "Target  = 32\n",
        "Iterations  = 10000    # Number of Inerations\n",
        "\n",
        "finalSeq = []\n",
        "finalSeq.append(seq[0])\n",
        "print(finalSeq)\n",
        "\n",
        "for i in seq[1:]:\n",
        "  finalSeq.append(''.join(r.sample(op,1)))\n",
        "  finalSeq.append(i)\n",
        "  print(finalSeq)\n",
        "\n",
        "exp=''.join(finalSeq)\n",
        "print(\"\\nExpression: \", exp)\n",
        "\n",
        "print(\"Expression Value: \", eval(exp))\n",
        "  \n",
        "\n",
        "f=0\n",
        "for i in range(Iterations):\n",
        "\n",
        "  finalSeq = []\n",
        "  finalSeq.append(seq[0])\n",
        "  for i in seq[1:]:\n",
        "    finalSeq.append(''.join(r.sample(op,1)))\n",
        "    finalSeq.append(i)\n",
        "  \n",
        "  exp=''.join(finalSeq)\n",
        "  print (exp, \"  \", eval(exp))\n",
        "\n",
        "  if eval(exp) == Target:\n",
        "    f=1\n",
        "    break\n",
        "\n",
        "    \n",
        "if f==0:\n",
        "  print(\"No Sequence found !!\")  "
      ],
      "metadata": {
        "id": "VEISjDYn7clQ"
      },
      "execution_count": null,
      "outputs": []
    },
    {
      "cell_type": "markdown",
      "source": [
        "Clique Problem"
      ],
      "metadata": {
        "id": "IxH8_EOP9fJq"
      }
    },
    {
      "cell_type": "code",
      "source": [
        "MAX = 100;\n",
        "n = 0;\n",
        "\n",
        "store = [0] * MAX;\n",
        "\n",
        "graph = [[0 for i in range(MAX)] for j in range(MAX)];\n",
        "\n",
        "d = [0] * MAX;\n",
        "\n",
        "# Function to check if the given set of vertices in store array is a clique or not\n",
        "def is_clique(b):\n",
        "\tfor i in range(1, b):\n",
        "\t\tfor j in range(i + 1, b):\n",
        "\t\t\tif (graph[store[i]][store[j]] == 0):\n",
        "\t\t\t\treturn False;\n",
        "\t\n",
        "\treturn True;\n",
        "\n",
        "def maxCliques(i, l):\n",
        "\n",
        "\tmax_ = 0;\n",
        "\n",
        "\tfor j in range(i + 1, n + 1):\n",
        "\n",
        "\t\t# Add the vertex to store\n",
        "\t\tstore[l] = j;\n",
        "\n",
        "\t\tif (is_clique(l + 1)):\n",
        "\n",
        "\t\t\t# Update max\n",
        "\t\t\tmax_ = max(max_, l);\n",
        "\n",
        "\t\t\t# Check if another edge can be added\n",
        "\t\t\tmax_ = max(max_, maxCliques(j, l + 1));\n",
        "\t\t\n",
        "\treturn max_;\n",
        "\t\n",
        "if __name__ == '__main__':\n",
        "\tedges = [[ 1, 2 ],[ 2, 3 ],[ 3, 1 ],\n",
        "\t\t[ 4, 3 ],[ 4, 1 ],[ 4, 2 ]];\n",
        "\tsize = len(edges);\n",
        "\tn = 4;\n",
        "\n",
        "\tfor i in range(size):\n",
        "\t\tgraph[edges[i][0]][edges[i][1]] = 1;\n",
        "\t\tgraph[edges[i][1]][edges[i][0]] = 1;\n",
        "\t\td[edges[i][0]] += 1;\n",
        "\t\td[edges[i][1]] += 1;\n",
        "\t\n",
        "\tprint(maxCliques(0, 1));\n",
        "\n",
        "\n"
      ],
      "metadata": {
        "id": "pJh1rTjQ9hLy",
        "colab": {
          "base_uri": "https://localhost:8080/"
        },
        "outputId": "a1f25e77-937c-49ee-81fe-e860310f849b"
      },
      "execution_count": null,
      "outputs": [
        {
          "output_type": "stream",
          "name": "stdout",
          "text": [
            "4\n"
          ]
        }
      ]
    }
  ]
}